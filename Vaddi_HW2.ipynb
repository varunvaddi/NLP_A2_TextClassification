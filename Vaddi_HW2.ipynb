{
 "cells": [
  {
   "cell_type": "markdown",
   "id": "0159df8e-50d5-49dd-94e5-36ebfdce1d7c",
   "metadata": {},
   "source": [
    "# NLP_Assignment2_VarunVaddi_2347481"
   ]
  },
  {
   "cell_type": "code",
   "execution_count": 1,
   "id": "19d9c660-be59-4703-92aa-3fb250aa62f4",
   "metadata": {},
   "outputs": [
    {
     "name": "stdout",
     "output_type": "stream",
     "text": [
      "Current working directory: /Users/varunvaddi/Desktop/NLP/Assignment2_TextClassification\n"
     ]
    }
   ],
   "source": [
    "# Importing all the required libraries\n",
    "import os\n",
    "import pandas as pd\n",
    "import spacy\n",
    "import os\n",
    "import re\n",
    "from nltk.corpus import stopwords\n",
    "from nltk.tokenize import word_tokenize\n",
    "from sklearn.model_selection import train_test_split\n",
    "from sklearn.feature_extraction.text import CountVectorizer\n",
    "from sklearn.naive_bayes import MultinomialNB\n",
    "from sklearn.metrics import confusion_matrix, classification_report\n",
    "from sklearn.feature_extraction.text import ENGLISH_STOP_WORDS\n",
    "from sklearn.model_selection import KFold\n",
    "print(\"Current working directory:\", os.getcwd())"
   ]
  },
  {
   "cell_type": "code",
   "execution_count": 2,
   "id": "c44c6484-c2a1-4be1-8dff-63f3b639c18f",
   "metadata": {},
   "outputs": [
    {
     "data": {
      "text/html": [
       "<div>\n",
       "<style scoped>\n",
       "    .dataframe tbody tr th:only-of-type {\n",
       "        vertical-align: middle;\n",
       "    }\n",
       "\n",
       "    .dataframe tbody tr th {\n",
       "        vertical-align: top;\n",
       "    }\n",
       "\n",
       "    .dataframe thead th {\n",
       "        text-align: right;\n",
       "    }\n",
       "</style>\n",
       "<table border=\"1\" class=\"dataframe\">\n",
       "  <thead>\n",
       "    <tr style=\"text-align: right;\">\n",
       "      <th></th>\n",
       "      <th>label</th>\n",
       "      <th>review</th>\n",
       "    </tr>\n",
       "  </thead>\n",
       "  <tbody>\n",
       "    <tr>\n",
       "      <th>0</th>\n",
       "      <td>neg</td>\n",
       "      <td>how do films like mouse hunt get into theatres...</td>\n",
       "    </tr>\n",
       "    <tr>\n",
       "      <th>1</th>\n",
       "      <td>neg</td>\n",
       "      <td>some talented actresses are blessed with a dem...</td>\n",
       "    </tr>\n",
       "    <tr>\n",
       "      <th>2</th>\n",
       "      <td>pos</td>\n",
       "      <td>this has been an extraordinary year for austra...</td>\n",
       "    </tr>\n",
       "    <tr>\n",
       "      <th>3</th>\n",
       "      <td>pos</td>\n",
       "      <td>according to hollywood movies made in last few...</td>\n",
       "    </tr>\n",
       "    <tr>\n",
       "      <th>4</th>\n",
       "      <td>neg</td>\n",
       "      <td>my first press screening of 1998 and already i...</td>\n",
       "    </tr>\n",
       "  </tbody>\n",
       "</table>\n",
       "</div>"
      ],
      "text/plain": [
       "  label                                             review\n",
       "0   neg  how do films like mouse hunt get into theatres...\n",
       "1   neg  some talented actresses are blessed with a dem...\n",
       "2   pos  this has been an extraordinary year for austra...\n",
       "3   pos  according to hollywood movies made in last few...\n",
       "4   neg  my first press screening of 1998 and already i..."
      ]
     },
     "execution_count": 2,
     "metadata": {},
     "output_type": "execute_result"
    }
   ],
   "source": [
    "# Load the dataset from tsv file\n",
    "data = pd.read_table('moviereviews.tsv')\n",
    "\n",
    "# Display the first few rows\n",
    "data.head()"
   ]
  },
  {
   "cell_type": "code",
   "execution_count": 3,
   "id": "d4c3b889-57cf-49ee-a008-7bef9dcc4a71",
   "metadata": {},
   "outputs": [
    {
     "data": {
      "text/plain": [
       "(2000, 2)"
      ]
     },
     "execution_count": 3,
     "metadata": {},
     "output_type": "execute_result"
    }
   ],
   "source": [
    "data.shape"
   ]
  },
  {
   "cell_type": "markdown",
   "id": "34cff6b4-bd31-4ca5-ba49-33fc0a2cf8cf",
   "metadata": {},
   "source": [
    "#### From the above output, we can observe that the data contains 2000 rows and 2 columns"
   ]
  },
  {
   "cell_type": "markdown",
   "id": "cf623b3e-fde3-493b-b8bc-108998701ecd",
   "metadata": {},
   "source": [
    "## Data Cleanup & 'label' column Mapping"
   ]
  },
  {
   "cell_type": "code",
   "execution_count": 4,
   "id": "e9e16201-135b-4a87-b74b-4b96d1214d3e",
   "metadata": {},
   "outputs": [
    {
     "data": {
      "text/plain": [
       "(1965, 2)"
      ]
     },
     "execution_count": 4,
     "metadata": {},
     "output_type": "execute_result"
    }
   ],
   "source": [
    "# Remove rows with missing reviews\n",
    "data = data.dropna(subset=['review'])\n",
    "\n",
    "# Convert labels to numerical values (0 for negative, 1 for positive)\n",
    "data['label'] = data['label'].map({'neg': 0, 'pos': 1})\n",
    "data.shape"
   ]
  },
  {
   "cell_type": "markdown",
   "id": "77302197-75ab-4442-835a-056dec98bc2c",
   "metadata": {},
   "source": [
    "#### From the above output, we can observe that the no of rows reduced from 2000 to 1965, i.e., 35 rows are dropped as part of cleaning process"
   ]
  },
  {
   "cell_type": "code",
   "execution_count": 5,
   "id": "4cd04bf8-cafa-4b27-b868-1aed06244ebf",
   "metadata": {},
   "outputs": [
    {
     "data": {
      "text/html": [
       "<div>\n",
       "<style scoped>\n",
       "    .dataframe tbody tr th:only-of-type {\n",
       "        vertical-align: middle;\n",
       "    }\n",
       "\n",
       "    .dataframe tbody tr th {\n",
       "        vertical-align: top;\n",
       "    }\n",
       "\n",
       "    .dataframe thead th {\n",
       "        text-align: right;\n",
       "    }\n",
       "</style>\n",
       "<table border=\"1\" class=\"dataframe\">\n",
       "  <thead>\n",
       "    <tr style=\"text-align: right;\">\n",
       "      <th></th>\n",
       "      <th>label</th>\n",
       "      <th>review</th>\n",
       "    </tr>\n",
       "  </thead>\n",
       "  <tbody>\n",
       "    <tr>\n",
       "      <th>0</th>\n",
       "      <td>0</td>\n",
       "      <td>how do films like mouse hunt get into theatres...</td>\n",
       "    </tr>\n",
       "    <tr>\n",
       "      <th>1</th>\n",
       "      <td>0</td>\n",
       "      <td>some talented actresses are blessed with a dem...</td>\n",
       "    </tr>\n",
       "    <tr>\n",
       "      <th>2</th>\n",
       "      <td>1</td>\n",
       "      <td>this has been an extraordinary year for austra...</td>\n",
       "    </tr>\n",
       "    <tr>\n",
       "      <th>3</th>\n",
       "      <td>1</td>\n",
       "      <td>according to hollywood movies made in last few...</td>\n",
       "    </tr>\n",
       "    <tr>\n",
       "      <th>4</th>\n",
       "      <td>0</td>\n",
       "      <td>my first press screening of 1998 and already i...</td>\n",
       "    </tr>\n",
       "  </tbody>\n",
       "</table>\n",
       "</div>"
      ],
      "text/plain": [
       "   label                                             review\n",
       "0      0  how do films like mouse hunt get into theatres...\n",
       "1      0  some talented actresses are blessed with a dem...\n",
       "2      1  this has been an extraordinary year for austra...\n",
       "3      1  according to hollywood movies made in last few...\n",
       "4      0  my first press screening of 1998 and already i..."
      ]
     },
     "execution_count": 5,
     "metadata": {},
     "output_type": "execute_result"
    }
   ],
   "source": [
    "# Displaying the data after encoding label column values to 0 & 1\n",
    "data.head()"
   ]
  },
  {
   "cell_type": "markdown",
   "id": "e124e05a-eec0-4c74-9365-7f37d6f902fe",
   "metadata": {},
   "source": [
    "## Data Preprocessing function"
   ]
  },
  {
   "cell_type": "code",
   "execution_count": 6,
   "id": "46f59c39-9e76-4aa8-9266-9a17ae1e0fed",
   "metadata": {},
   "outputs": [],
   "source": [
    "# Load the SpaCy Large model\n",
    "nlp = spacy.load('en_core_web_lg')\n",
    "\n",
    "def preprocess_text(text, lemmatize_words, remove_stop_words, handle_logical_negation):\n",
    "    # Process text with spaCy\n",
    "    doc = nlp(text)\n",
    "    \n",
    "    # Token processing\n",
    "    tokens = []\n",
    "    for token in doc:\n",
    "        if token.is_punct or token.is_space:\n",
    "            continue\n",
    "        if remove_stop_words and token.is_stop:\n",
    "            continue\n",
    "        if lemmatize_words:\n",
    "            token = token.lemma_\n",
    "        else:\n",
    "            token = token.text\n",
    "        tokens.append(token)\n",
    "    \n",
    "    # Join tokens into a single string\n",
    "    processed_text = ' '.join(tokens)\n",
    "\n",
    "    if remove_stop_words:\n",
    "        # Remove stop words - from, of, in, he/she\n",
    "        stop_words = set(stopwords.words('english'))\n",
    "        tokens = word_tokenize(text)\n",
    "        processed_text = ' '.join(token for token in tokens if token.lower() not in stop_words)\n",
    "\n",
    "    if lemmatize_words:\n",
    "        # lemmatize\n",
    "        processed_text = ' '.join(token.lemma_ for token in doc)\n",
    "    \n",
    "    if handle_logical_negation and lemmatize_words:\n",
    "        # Replace \"not\" and \"n't\" with a placeholder for negation\n",
    "        processed_text = re.sub(r'\\bnot\\b|\\b(?!\\bnot\\b)\\w+\\'?nt\\b', 'NEG', processed_text)\n",
    "    \n",
    "    return processed_text\n"
   ]
  },
  {
   "cell_type": "markdown",
   "id": "ffee05e8-3d46-444f-aa25-ad8fd8fe2a8a",
   "metadata": {},
   "source": [
    "## Function to Train and evaluate the model"
   ]
  },
  {
   "cell_type": "code",
   "execution_count": 7,
   "id": "fc24674c-4c6d-4c25-8ccc-3ef629db92ee",
   "metadata": {},
   "outputs": [],
   "source": [
    "def train_and_evaluate(X_train, y_train, X_test, y_test):\n",
    "    # Vectorize the text data\n",
    "    vectorizer = CountVectorizer()\n",
    "    X_train_vectorized = vectorizer.fit_transform(X_train)\n",
    "    X_test_vectorized = vectorizer.transform(X_test)\n",
    "    \n",
    "    # Train Naïve Bayes classifier\n",
    "    model = MultinomialNB()\n",
    "    model.fit(X_train_vectorized, y_train)\n",
    "    \n",
    "    # Predict on the test set\n",
    "    y_pred = model.predict(X_test_vectorized)\n",
    "    \n",
    "    # Print classification report\n",
    "    print(classification_report(y_test, y_pred, target_names=['Negative', 'Positive']))"
   ]
  },
  {
   "cell_type": "markdown",
   "id": "a4fba101-721a-4695-a5d6-47d0e924b7e0",
   "metadata": {},
   "source": [
    "## Function to run 4 different scenarios"
   ]
  },
  {
   "cell_type": "code",
   "execution_count": 8,
   "id": "539306e5-8e67-492a-aeb4-e26662743295",
   "metadata": {},
   "outputs": [],
   "source": [
    "def run_scenario(lemmatize_words, remove_stop_words, handle_logical_negation):\n",
    "    # Preprocess reviews\n",
    "    data['processed_review'] = data['review'].apply(\n",
    "        lambda x: preprocess_text(x, lemmatize_words, remove_stop_words, handle_logical_negation)\n",
    "    )\n",
    "    \n",
    "    # Split data into training and testing sets\n",
    "    X_train, X_test, y_train, y_test = train_test_split(\n",
    "        data['processed_review'], data['label'], test_size=0.2, random_state=42\n",
    "    )\n",
    "    \n",
    "    # Train and evaluate the model\n",
    "    train_and_evaluate(X_train, y_train, X_test, y_test)\n"
   ]
  },
  {
   "cell_type": "markdown",
   "id": "883b0bbb-2a1b-4b78-b884-7481bad9cb40",
   "metadata": {},
   "source": [
    "## Calling the run_scenario function, by changing the values of parameters"
   ]
  },
  {
   "cell_type": "code",
   "execution_count": 9,
   "id": "9bc1bf53-f2a2-408e-9fdc-e8490aeb97fb",
   "metadata": {},
   "outputs": [
    {
     "name": "stdout",
     "output_type": "stream",
     "text": [
      "Scenario 1: No lemmatization, with stop word removal, no logical negation \n",
      "\n",
      "              precision    recall  f1-score   support\n",
      "\n",
      "    Negative       0.78      0.85      0.82       202\n",
      "    Positive       0.83      0.75      0.79       191\n",
      "\n",
      "    accuracy                           0.80       393\n",
      "   macro avg       0.80      0.80      0.80       393\n",
      "weighted avg       0.80      0.80      0.80       393\n",
      "\n",
      "-------------------------------------------------------------------------------------------------------\n",
      "\n",
      "Scenario 2: With lemmatization, no stop word removal, no logical negation \n",
      "\n",
      "              precision    recall  f1-score   support\n",
      "\n",
      "    Negative       0.77      0.84      0.80       202\n",
      "    Positive       0.81      0.74      0.77       191\n",
      "\n",
      "    accuracy                           0.79       393\n",
      "   macro avg       0.79      0.79      0.79       393\n",
      "weighted avg       0.79      0.79      0.79       393\n",
      "\n",
      "-------------------------------------------------------------------------------------------------------\n",
      "\n",
      "Scenario 3: With lemmatization, with stop word removal, no logical negation \n",
      "\n",
      "              precision    recall  f1-score   support\n",
      "\n",
      "    Negative       0.77      0.84      0.80       202\n",
      "    Positive       0.81      0.74      0.77       191\n",
      "\n",
      "    accuracy                           0.79       393\n",
      "   macro avg       0.79      0.79      0.79       393\n",
      "weighted avg       0.79      0.79      0.79       393\n",
      "\n",
      "-------------------------------------------------------------------------------------------------------\n",
      "\n",
      "Scenario 4: With lemmatization, with stop word removal, and handling logical negation \n",
      "\n",
      "              precision    recall  f1-score   support\n",
      "\n",
      "    Negative       0.78      0.84      0.80       202\n",
      "    Positive       0.81      0.74      0.78       191\n",
      "\n",
      "    accuracy                           0.79       393\n",
      "   macro avg       0.79      0.79      0.79       393\n",
      "weighted avg       0.79      0.79      0.79       393\n",
      "\n",
      "-------------------------------------------------------------------------------------------------------\n"
     ]
    }
   ],
   "source": [
    "# Scenario 1: No lemmatization with stop word removal, no logical negation\n",
    "print(\"Scenario 1: No lemmatization, with stop word removal, no logical negation \\n\")\n",
    "run_scenario(lemmatize_words=False, remove_stop_words=True, handle_logical_negation=False)\n",
    "print(\"-------------------------------------------------------------------------------------------------------\")\n",
    "\n",
    "# Scenario 2: With lemmatization, no stop word removal, no logical negation\n",
    "print(\"\\nScenario 2: With lemmatization, no stop word removal, no logical negation \\n\")\n",
    "run_scenario(lemmatize_words=True, remove_stop_words=False, handle_logical_negation=False)\n",
    "print(\"-------------------------------------------------------------------------------------------------------\")\n",
    "\n",
    "# Scenario 3: With lemmatization, with stop word removal, no logical negation\n",
    "print(\"\\nScenario 3: With lemmatization, with stop word removal, no logical negation \\n\")\n",
    "run_scenario(lemmatize_words=True, remove_stop_words=True, handle_logical_negation=False)\n",
    "print(\"-------------------------------------------------------------------------------------------------------\")\n",
    "\n",
    "# Scenario 4: With lemmatization, with stop word removal, and handling logical negation\n",
    "print(\"\\nScenario 4: With lemmatization, with stop word removal, and handling logical negation \\n\")\n",
    "run_scenario(lemmatize_words=True, remove_stop_words=True, handle_logical_negation=True)\n",
    "print(\"-------------------------------------------------------------------------------------------------------\")\n"
   ]
  },
  {
   "cell_type": "markdown",
   "id": "c22c2b86-8d35-4aca-8e75-496794e528b6",
   "metadata": {},
   "source": [
    "### Summary of Results\n",
    "\n",
    "1. **Scenario 1**: No lemmatization, with stop word removal, no logical negation\n",
    "   - **Accuracy**: 80%\n",
    "\n",
    "\n",
    "2. **Scenario 2**: With lemmatization, no stop word removal, no logical negation\n",
    "   - **Accuracy**: 79%\n",
    "\n",
    "3. **Scenario 3**: With lemmatization, with stop word removal, no logical negation\n",
    "   - **Accuracy**: 80%\n",
    "\n",
    "4. **Scenario 4**: With lemmatization, with stop word removal, and handling logical negation\n",
    "   - **Accuracy**: 80%"
   ]
  }
 ],
 "metadata": {
  "kernelspec": {
   "display_name": "Python 3 (ipykernel)",
   "language": "python",
   "name": "python3"
  },
  "language_info": {
   "codemirror_mode": {
    "name": "ipython",
    "version": 3
   },
   "file_extension": ".py",
   "mimetype": "text/x-python",
   "name": "python",
   "nbconvert_exporter": "python",
   "pygments_lexer": "ipython3",
   "version": "3.10.14"
  }
 },
 "nbformat": 4,
 "nbformat_minor": 5
}
