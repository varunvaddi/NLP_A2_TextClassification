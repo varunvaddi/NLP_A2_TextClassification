{
 "cells": [
  {
   "cell_type": "code",
   "execution_count": 1,
   "id": "3994a89d-80ba-4196-8f37-78a90c783ab5",
   "metadata": {},
   "outputs": [],
   "source": [
    "import spacy\n",
    "import pandas as pd\n",
    "import re\n",
    "from nltk.corpus import stopwords\n",
    "from nltk.tokenize import word_tokenize"
   ]
  },
  {
   "cell_type": "code",
   "execution_count": 2,
   "id": "162ee7e4-2405-4805-9a54-03ba09d0793a",
   "metadata": {},
   "outputs": [],
   "source": [
    "# Load the English model for lemmatization\n",
    "nlp = spacy.load('en_core_web_lg')"
   ]
  },
  {
   "cell_type": "code",
   "execution_count": 3,
   "id": "864cabac-18fc-4cd9-bee6-c442a6ab878d",
   "metadata": {},
   "outputs": [],
   "source": [
    "text = \"Varun lives in USA & hail's from Indian   city of Hyderabad. he cannot  runs  fast .He is very taller.\""
   ]
  },
  {
   "cell_type": "markdown",
   "id": "a45e3804-bfa6-4c4b-8fc9-21ebeb217e45",
   "metadata": {},
   "source": [
    "# Remove Symbols & Punctuations"
   ]
  },
  {
   "cell_type": "code",
   "execution_count": 4,
   "id": "d34dda9b-f7b4-49ae-9b7f-75bb3598d113",
   "metadata": {},
   "outputs": [],
   "source": [
    "# Remove symbols and punctuations\n",
    "text = re.sub(r'[^\\w\\s]', '', text)"
   ]
  },
  {
   "cell_type": "code",
   "execution_count": 5,
   "id": "9fc605f3-2077-4fef-9737-f25eb8366537",
   "metadata": {},
   "outputs": [
    {
     "name": "stdout",
     "output_type": "stream",
     "text": [
      "Varun lives in USA  hails from Indian   city of Hyderabad he cannot  runs  fast He is very taller\n"
     ]
    }
   ],
   "source": [
    "print(text)"
   ]
  },
  {
   "cell_type": "markdown",
   "id": "71bb6818-455a-4805-92ba-41accb39be19",
   "metadata": {},
   "source": [
    "# Remove extra white spaces"
   ]
  },
  {
   "cell_type": "code",
   "execution_count": 6,
   "id": "a59b782a-3c4d-44d8-bff3-fd037fe8c493",
   "metadata": {},
   "outputs": [],
   "source": [
    "# Remove extra spaces\n",
    "text = re.sub(r'\\s+', ' ', text).strip()"
   ]
  },
  {
   "cell_type": "code",
   "execution_count": 7,
   "id": "fbd2fbd2-d663-402b-93e3-73ec257cd8df",
   "metadata": {},
   "outputs": [
    {
     "name": "stdout",
     "output_type": "stream",
     "text": [
      "Varun lives in USA hails from Indian city of Hyderabad he cannot runs fast He is very taller\n"
     ]
    }
   ],
   "source": [
    "print(text)"
   ]
  },
  {
   "cell_type": "markdown",
   "id": "9bb50651-175e-4033-b8c7-517763c83cd2",
   "metadata": {},
   "source": [
    "# Lemmatization"
   ]
  },
  {
   "cell_type": "code",
   "execution_count": 8,
   "id": "6c075bc1-767a-4d25-85b2-582993a36096",
   "metadata": {},
   "outputs": [],
   "source": [
    "doc = nlp(text)\n",
    "text = ' '.join(token.lemma_ for token in doc)"
   ]
  },
  {
   "cell_type": "code",
   "execution_count": 9,
   "id": "34115e7c-6b43-4f86-b4be-3cb51d5f246d",
   "metadata": {},
   "outputs": [
    {
     "name": "stdout",
     "output_type": "stream",
     "text": [
      "Varun live in USA hail from indian city of Hyderabad he can not run fast he be very tall\n"
     ]
    }
   ],
   "source": [
    "print(text)"
   ]
  },
  {
   "cell_type": "markdown",
   "id": "6548bf19-9556-4d95-a3dd-74519c86c752",
   "metadata": {},
   "source": [
    "# Handle Logical Negation"
   ]
  },
  {
   "cell_type": "code",
   "execution_count": 10,
   "id": "7694f438-a15d-449f-a310-cdefb7d1f7b6",
   "metadata": {},
   "outputs": [],
   "source": [
    "text = re.sub(r'\\bnot\\b', 'not_', text)"
   ]
  },
  {
   "cell_type": "code",
   "execution_count": 11,
   "id": "c53da208-72df-4b50-8c1a-784cdbe868a3",
   "metadata": {},
   "outputs": [
    {
     "name": "stdout",
     "output_type": "stream",
     "text": [
      "Varun live in USA hail from indian city of Hyderabad he can not_ run fast he be very tall\n"
     ]
    }
   ],
   "source": [
    "print(text)"
   ]
  },
  {
   "cell_type": "markdown",
   "id": "a70078d4-d306-4341-bd2f-c13840ff0541",
   "metadata": {},
   "source": [
    "# Remove Stop Words"
   ]
  },
  {
   "cell_type": "code",
   "execution_count": 12,
   "id": "8382c583-52d3-447e-8768-4182cdf812d4",
   "metadata": {},
   "outputs": [],
   "source": [
    "stop_words = set(stopwords.words('english'))\n",
    "tokens = word_tokenize(text)\n",
    "text = ' '.join(token for token in tokens if token.lower() not in stop_words)"
   ]
  },
  {
   "cell_type": "code",
   "execution_count": 13,
   "id": "35aa8794-fab5-4f1b-b60d-9773151dad55",
   "metadata": {},
   "outputs": [
    {
     "name": "stdout",
     "output_type": "stream",
     "text": [
      "Varun live USA hail indian city Hyderabad not_ run fast tall\n"
     ]
    }
   ],
   "source": [
    "print(text)"
   ]
  }
 ],
 "metadata": {
  "kernelspec": {
   "display_name": "Python 3 (ipykernel)",
   "language": "python",
   "name": "python3"
  },
  "language_info": {
   "codemirror_mode": {
    "name": "ipython",
    "version": 3
   },
   "file_extension": ".py",
   "mimetype": "text/x-python",
   "name": "python",
   "nbconvert_exporter": "python",
   "pygments_lexer": "ipython3",
   "version": "3.10.14"
  }
 },
 "nbformat": 4,
 "nbformat_minor": 5
}
